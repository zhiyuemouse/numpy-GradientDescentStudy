{
 "cells": [
  {
   "cell_type": "code",
   "execution_count": 1,
   "id": "de09511e",
   "metadata": {},
   "outputs": [],
   "source": [
    "import numpy as np"
   ]
  },
  {
   "cell_type": "markdown",
   "id": "4f43e1c4",
   "metadata": {},
   "source": [
    "## 前向传播\n",
    "$y_1 = W_1 \\times x$ \\\n",
    "$y_2 = W_2 \\times y_1$ \\\n",
    "$y_3 = W_3 \\times y_2$\n",
    "\n",
    "相当于3层无偏置项的全连接层\n",
    "```python\n",
    "import torch\n",
    "from torch import nn\n",
    "\n",
    "model = nn.Sequential(\n",
    "    nn.Linear(3, 4, bias=False),\n",
    "    nn.Linear(4, 5, bias=False),\n",
    "    nn.Linear(5, 1, bias=False)\n",
    ")\n",
    "```\n",
    "\n",
    "$L_{loss} = |y_3 - y_{true}|$"
   ]
  },
  {
   "cell_type": "markdown",
   "id": "9f173193",
   "metadata": {},
   "source": [
    "### 初始化输入与权重参数"
   ]
  },
  {
   "cell_type": "code",
   "execution_count": 2,
   "id": "51778a96",
   "metadata": {},
   "outputs": [
    {
     "name": "stdout",
     "output_type": "stream",
     "text": [
      "x.shape: (3, 1)\n",
      "W1.shape: (4, 3)\n",
      "W2.shape: (5, 4)\n",
      "W3.shape: (1, 5)\n"
     ]
    }
   ],
   "source": [
    "y_true = np.array([[50]]) # 初始化真实值\n",
    "x = np.array([[1, 2, 3]]).T # 初始化输入\n",
    "\n",
    "W1 = np.ones((4, 3)) # 初始化W\n",
    "W2 = np.ones((5, 4)) # 初始化W\n",
    "W3 = np.ones((1, 5)) # 初始化W\n",
    "\n",
    "print(f\"x.shape: {x.shape}\")\n",
    "print(f\"W1.shape: {W1.shape}\")\n",
    "print(f\"W2.shape: {W2.shape}\")\n",
    "print(f\"W3.shape: {W3.shape}\")"
   ]
  },
  {
   "cell_type": "markdown",
   "id": "b8baa37c",
   "metadata": {},
   "source": [
    "### 第1层\n",
    "$y_1 = W_1 \\times x$ \\\n",
    "其中\\\n",
    "x为[3, 1]的矩阵\\\n",
    "$W_1$为[4, 3]的矩阵\\\n",
    "$y_1$为[4, 1]的矩阵"
   ]
  },
  {
   "cell_type": "code",
   "execution_count": 3,
   "id": "774967ee",
   "metadata": {},
   "outputs": [
    {
     "name": "stdout",
     "output_type": "stream",
     "text": [
      "x.shape: (3, 1)\n",
      "W1.shape: (4, 3)\n",
      "y1.shape: (4, 1)\n"
     ]
    },
    {
     "data": {
      "text/plain": [
       "array([[6.],\n",
       "       [6.],\n",
       "       [6.],\n",
       "       [6.]])"
      ]
     },
     "execution_count": 3,
     "metadata": {},
     "output_type": "execute_result"
    }
   ],
   "source": [
    "y1 = W1 @ x\n",
    "\n",
    "print(f\"x.shape: {x.shape}\")\n",
    "print(f\"W1.shape: {W1.shape}\")\n",
    "print(f\"y1.shape: {y1.shape}\")\n",
    "\n",
    "y1"
   ]
  },
  {
   "cell_type": "markdown",
   "id": "6b96d3ed",
   "metadata": {},
   "source": [
    "### 第2层\n",
    "$y_2 = W_2 \\times y_1$ \\\n",
    "其中\\\n",
    "$y_1$为[4, 1]的矩阵\\\n",
    "$W_2$为[5, 4]的矩阵\\\n",
    "$y_2$为[5, 1]的矩阵\n"
   ]
  },
  {
   "cell_type": "code",
   "execution_count": 4,
   "id": "9bf1d309",
   "metadata": {},
   "outputs": [
    {
     "name": "stdout",
     "output_type": "stream",
     "text": [
      "y1.shape: (4, 1)\n",
      "W2.shape: (5, 4)\n",
      "y2.shape: (5, 1)\n"
     ]
    },
    {
     "data": {
      "text/plain": [
       "array([[24.],\n",
       "       [24.],\n",
       "       [24.],\n",
       "       [24.],\n",
       "       [24.]])"
      ]
     },
     "execution_count": 4,
     "metadata": {},
     "output_type": "execute_result"
    }
   ],
   "source": [
    "y2 = W2 @ y1\n",
    "\n",
    "print(f\"y1.shape: {y1.shape}\")\n",
    "print(f\"W2.shape: {W2.shape}\")\n",
    "print(f\"y2.shape: {y2.shape}\")\n",
    "\n",
    "y2"
   ]
  },
  {
   "cell_type": "markdown",
   "id": "f20feb8a",
   "metadata": {},
   "source": [
    "### 第3层\n",
    "$y_3 = W_3 \\times y_2$ \\\n",
    "其中\\\n",
    "$y_2$为[5, 1]的矩阵\\\n",
    "$W_3$为[1, 5]的矩阵\\\n",
    "$y_3$为[1, 1]的矩阵\n"
   ]
  },
  {
   "cell_type": "code",
   "execution_count": 5,
   "id": "dac647ec",
   "metadata": {},
   "outputs": [
    {
     "name": "stdout",
     "output_type": "stream",
     "text": [
      "y2.shape: (5, 1)\n",
      "W3.shape: (1, 5)\n",
      "y3.shape: (1, 1)\n"
     ]
    },
    {
     "data": {
      "text/plain": [
       "array([[120.]])"
      ]
     },
     "execution_count": 5,
     "metadata": {},
     "output_type": "execute_result"
    }
   ],
   "source": [
    "y3 = W3 @ y2\n",
    "\n",
    "print(f\"y2.shape: {y2.shape}\")\n",
    "print(f\"W3.shape: {W3.shape}\")\n",
    "print(f\"y3.shape: {y3.shape}\")\n",
    "\n",
    "y3"
   ]
  },
  {
   "cell_type": "markdown",
   "id": "35d093f4",
   "metadata": {},
   "source": [
    "### 定义损失函数\n",
    "$L_{loss} = |y3 - y_{true}|$"
   ]
  },
  {
   "cell_type": "code",
   "execution_count": 6,
   "id": "e1cbd325",
   "metadata": {},
   "outputs": [
    {
     "name": "stdout",
     "output_type": "stream",
     "text": [
      "y3.shape: (1, 1)\n",
      "y_true.shape: (1, 1)\n",
      "L.shape: (1, 1)\n",
      "现在的Loss: 70.0\n"
     ]
    }
   ],
   "source": [
    "L = np.abs(y3 - y_true)\n",
    "\n",
    "print(f\"y3.shape: {y3.shape}\")\n",
    "print(f\"y_true.shape: {y_true.shape}\")\n",
    "print(f\"L.shape: {L.shape}\")\n",
    "\n",
    "print(f\"现在的Loss: {L.item()}\")"
   ]
  },
  {
   "cell_type": "markdown",
   "id": "3cae7ede",
   "metadata": {},
   "source": [
    "## 反向传播\n",
    "$L_{loss}$对损失函数的输入(即第3层的输出)$y_3$的梯度为：\\\n",
    "当$y_3 > y_{true}$ 即 $y_3 - y_{true} > 0$时:\n",
    "$\\frac{\\partial L_{loss}}{\\partial y_3} = 1$ \\\n",
    "当$y_3 < y_{true}$ 即 $y_3 - y_{true} < 0$时:\n",
    "$\\frac{\\partial L_{loss}}{\\partial y_3} = -1$\n"
   ]
  },
  {
   "cell_type": "code",
   "execution_count": 7,
   "id": "51bf7720",
   "metadata": {},
   "outputs": [
    {
     "data": {
      "text/plain": [
       "1"
      ]
     },
     "execution_count": 7,
     "metadata": {},
     "output_type": "execute_result"
    }
   ],
   "source": [
    "dL_dy3 = 0 # 梯度初始化为0\n",
    "if (y3 - y_true) > 0:\n",
    "    dL_dy3 = 1\n",
    "else:\n",
    "    dL_dy3 = -1\n",
    "\n",
    "dL_dy3"
   ]
  },
  {
   "cell_type": "markdown",
   "id": "2cf8b891",
   "metadata": {},
   "source": [
    "$L_{loss}$对第3层的权重参数$W_3$的梯度为：\n",
    "$\\frac{\\partial L_{loss}}{\\partial W_3} = \\frac{\\partial L_{loss}}{\\partial y_3} \\frac{\\partial y_3}{\\partial W_3} = \\pm1 \\times y_2^T$"
   ]
  },
  {
   "cell_type": "code",
   "execution_count": 8,
   "id": "039f3625",
   "metadata": {},
   "outputs": [
    {
     "name": "stdout",
     "output_type": "stream",
     "text": [
      "y2.T.shape: (1, 5)\n",
      "dL_dW3.shape: (1, 5)\n"
     ]
    },
    {
     "data": {
      "text/plain": [
       "array([[24., 24., 24., 24., 24.]])"
      ]
     },
     "execution_count": 8,
     "metadata": {},
     "output_type": "execute_result"
    }
   ],
   "source": [
    "dL_dW3 = 0 # 梯度初始化为0\n",
    "dL_dW3 = dL_dy3 * y2.T\n",
    "\n",
    "print(f\"y2.T.shape: {y2.T.shape}\")\n",
    "print(f\"dL_dW3.shape: {dL_dW3.shape}\")\n",
    "\n",
    "dL_dW3"
   ]
  },
  {
   "cell_type": "markdown",
   "id": "746e4c9e",
   "metadata": {},
   "source": [
    "$L_{loss}$对第2层的权重参数$W_2$的梯度为：\n",
    "$\\frac{\\partial L_{loss}}{\\partial W_2} = \\frac{\\partial L_{loss}}{\\partial y_3} \\frac{\\partial y_3}{\\partial y_2} \\frac{\\partial y_2}{\\partial W_2} = (\\pm1 \\times W_3)^T y_1^T$"
   ]
  },
  {
   "cell_type": "code",
   "execution_count": 9,
   "id": "a86f743d",
   "metadata": {},
   "outputs": [
    {
     "name": "stdout",
     "output_type": "stream",
     "text": [
      "y1.T.shape: (1, 4)\n",
      "(dL_dy3 * W3).T.shape: (5, 1)\n",
      "dL_dW2.shape: (5, 4)\n"
     ]
    },
    {
     "data": {
      "text/plain": [
       "array([[6., 6., 6., 6.],\n",
       "       [6., 6., 6., 6.],\n",
       "       [6., 6., 6., 6.],\n",
       "       [6., 6., 6., 6.],\n",
       "       [6., 6., 6., 6.]])"
      ]
     },
     "execution_count": 9,
     "metadata": {},
     "output_type": "execute_result"
    }
   ],
   "source": [
    "dL_dW2 = 0 # 梯度初始化为0\n",
    "dL_dW2 = (dL_dy3 * W3).T @ y1.T\n",
    "\n",
    "print(f\"y1.T.shape: {y1.T.shape}\")\n",
    "print(f\"(dL_dy3 * W3).T.shape: {(dL_dy3 * W3).T.shape}\")\n",
    "print(f\"dL_dW2.shape: {dL_dW2.shape}\")\n",
    "\n",
    "dL_dW2"
   ]
  },
  {
   "cell_type": "markdown",
   "id": "8be98099",
   "metadata": {},
   "source": [
    "$L_{loss}$对第1层的权重参数$W_2$的梯度为：\n",
    "$\\frac{\\partial L_{loss}}{\\partial W_1} = \\frac{\\partial L_{loss}}{\\partial y_3} \n",
    "\\frac{\\partial y_3}{\\partial y_2} \\frac{\\partial y_2}{\\partial y_1} \\frac{\\partial y_1}{\\partial W_1}\n",
    " = (\\pm1 \\times W_3 \\times W_2)^T x^T$"
   ]
  },
  {
   "cell_type": "code",
   "execution_count": 10,
   "id": "2b330740",
   "metadata": {},
   "outputs": [
    {
     "name": "stdout",
     "output_type": "stream",
     "text": [
      "x.T.shape: (1, 3)\n",
      "(dL_dy3 * W3 @ W2).T.shape: (4, 1)\n",
      "dL_dW1.shape: (4, 3)\n"
     ]
    },
    {
     "data": {
      "text/plain": [
       "array([[ 5., 10., 15.],\n",
       "       [ 5., 10., 15.],\n",
       "       [ 5., 10., 15.],\n",
       "       [ 5., 10., 15.]])"
      ]
     },
     "execution_count": 10,
     "metadata": {},
     "output_type": "execute_result"
    }
   ],
   "source": [
    "dL_dW1 = 0 # 梯度初始化为0\n",
    "dL_dW1 = (dL_dy3 * W3 @ W2).T @ x.T\n",
    "\n",
    "print(f\"x.T.shape: {x.T.shape}\")\n",
    "print(f\"(dL_dy3 * W3 @ W2).T.shape: {(dL_dy3 * W3 @ W2).T.shape}\")\n",
    "print(f\"dL_dW1.shape: {dL_dW1.shape}\")\n",
    "\n",
    "dL_dW1"
   ]
  },
  {
   "cell_type": "markdown",
   "id": "8809f9ea",
   "metadata": {},
   "source": [
    "## 梯度下降\n",
    "$\\alpha$ 即学习率 Learning Rate"
   ]
  },
  {
   "cell_type": "code",
   "execution_count": 11,
   "id": "1b2d5858",
   "metadata": {},
   "outputs": [],
   "source": [
    "lr = 0.01 # 学习率"
   ]
  },
  {
   "cell_type": "markdown",
   "id": "202dc518",
   "metadata": {},
   "source": [
    "### 更新第3层的权重\n",
    "$\n",
    "W_3 = W_3 - \\alpha \\times \\frac{\\partial L_{loss}}{\\partial W_3}\n",
    "$"
   ]
  },
  {
   "cell_type": "code",
   "execution_count": 12,
   "id": "e3125c56",
   "metadata": {},
   "outputs": [
    {
     "name": "stdout",
     "output_type": "stream",
     "text": [
      "dL_dW3.shape: (1, 5)\n",
      "W3.shape: (1, 5)\n"
     ]
    },
    {
     "data": {
      "text/plain": [
       "array([[0.76, 0.76, 0.76, 0.76, 0.76]])"
      ]
     },
     "execution_count": 12,
     "metadata": {},
     "output_type": "execute_result"
    }
   ],
   "source": [
    "W3 = W3 - lr * dL_dW3\n",
    "\n",
    "print(f\"dL_dW3.shape: {dL_dW3.shape}\")\n",
    "print(f\"W3.shape: {W3.shape}\")\n",
    "\n",
    "W3"
   ]
  },
  {
   "cell_type": "markdown",
   "id": "c4fc9059",
   "metadata": {},
   "source": [
    "### 更新第2层的权重\n",
    "$\n",
    "W_2 = W_2 - \\alpha \\times \\frac{\\partial L_{loss}}{\\partial W_2}\n",
    "$"
   ]
  },
  {
   "cell_type": "code",
   "execution_count": 13,
   "id": "a4d38937",
   "metadata": {},
   "outputs": [
    {
     "name": "stdout",
     "output_type": "stream",
     "text": [
      "dL_dW2.shape: (5, 4)\n",
      "W2.shape: (5, 4)\n"
     ]
    },
    {
     "data": {
      "text/plain": [
       "array([[0.94, 0.94, 0.94, 0.94],\n",
       "       [0.94, 0.94, 0.94, 0.94],\n",
       "       [0.94, 0.94, 0.94, 0.94],\n",
       "       [0.94, 0.94, 0.94, 0.94],\n",
       "       [0.94, 0.94, 0.94, 0.94]])"
      ]
     },
     "execution_count": 13,
     "metadata": {},
     "output_type": "execute_result"
    }
   ],
   "source": [
    "W2 = W2 - lr * dL_dW2\n",
    "\n",
    "print(f\"dL_dW2.shape: {dL_dW2.shape}\")\n",
    "print(f\"W2.shape: {W2.shape}\")\n",
    "\n",
    "W2"
   ]
  },
  {
   "cell_type": "markdown",
   "id": "73d33665",
   "metadata": {},
   "source": [
    "### 更新后的第1层的权重\n",
    "$\n",
    "W_1 = W_1 - \\alpha \\times \\frac{\\partial L_{loss}}{\\partial W_1}\n",
    "$"
   ]
  },
  {
   "cell_type": "code",
   "execution_count": 14,
   "id": "f4001f13",
   "metadata": {},
   "outputs": [
    {
     "name": "stdout",
     "output_type": "stream",
     "text": [
      "dL_dW1.shape: (4, 3)\n",
      "W1.shape: (4, 3)\n"
     ]
    },
    {
     "data": {
      "text/plain": [
       "array([[0.95, 0.9 , 0.85],\n",
       "       [0.95, 0.9 , 0.85],\n",
       "       [0.95, 0.9 , 0.85],\n",
       "       [0.95, 0.9 , 0.85]])"
      ]
     },
     "execution_count": 14,
     "metadata": {},
     "output_type": "execute_result"
    }
   ],
   "source": [
    "W1 = W1 - lr * dL_dW1\n",
    "\n",
    "print(f\"dL_dW1.shape: {dL_dW1.shape}\")\n",
    "print(f\"W1.shape: {W1.shape}\")\n",
    "\n",
    "W1"
   ]
  },
  {
   "cell_type": "markdown",
   "id": "1ae3a017",
   "metadata": {},
   "source": [
    "## 整体更新过后新的Loss"
   ]
  },
  {
   "cell_type": "code",
   "execution_count": 15,
   "id": "a2501300",
   "metadata": {},
   "outputs": [
    {
     "data": {
      "text/plain": [
       "array([[75.7264]])"
      ]
     },
     "execution_count": 15,
     "metadata": {},
     "output_type": "execute_result"
    }
   ],
   "source": [
    "y_new = W3 @ (W2 @ (W1 @ x))\n",
    "y_new"
   ]
  },
  {
   "cell_type": "code",
   "execution_count": 16,
   "id": "f6103759",
   "metadata": {},
   "outputs": [
    {
     "name": "stdout",
     "output_type": "stream",
     "text": [
      "梯度下降前的Loss: 70.0\n",
      "梯度下降后的Loss: 25.726399999999984\n"
     ]
    }
   ],
   "source": [
    "L_new = np.abs(y_new - y_true)\n",
    "print(f\"梯度下降前的Loss: {L.item()}\")\n",
    "print(f\"梯度下降后的Loss: {L_new.item()}\")"
   ]
  },
  {
   "cell_type": "markdown",
   "id": "95b3f205",
   "metadata": {},
   "source": [
    "## 多次更新展示"
   ]
  },
  {
   "cell_type": "code",
   "execution_count": 17,
   "id": "a9acba28",
   "metadata": {},
   "outputs": [
    {
     "name": "stdout",
     "output_type": "stream",
     "text": [
      "x.shape: (3, 1)\n",
      "W1.shape: (4, 3)\n",
      "W2.shape: (5, 4)\n",
      "W3.shape: (1, 5)\n"
     ]
    }
   ],
   "source": [
    "y_true = np.array([[50]]) # 初始化真实值\n",
    "x = np.array([[1, 2, 3]]).T # 初始化输入\n",
    "\n",
    "W1 = np.ones((4, 3)) # 初始化W\n",
    "W2 = np.ones((5, 4)) # 初始化W\n",
    "W3 = np.ones((1, 5)) # 初始化W\n",
    "\n",
    "print(f\"x.shape: {x.shape}\")\n",
    "print(f\"W1.shape: {W1.shape}\")\n",
    "print(f\"W2.shape: {W2.shape}\")\n",
    "print(f\"W3.shape: {W3.shape}\")"
   ]
  },
  {
   "cell_type": "code",
   "execution_count": 18,
   "id": "3a4297df",
   "metadata": {},
   "outputs": [
    {
     "name": "stdout",
     "output_type": "stream",
     "text": [
      "Epoch 1/10, Loss: 70.0000\n",
      "Epoch 2/10, Loss: 60.2355\n",
      "Epoch 3/10, Loss: 51.3579\n",
      "Epoch 4/10, Loss: 43.2636\n",
      "Epoch 5/10, Loss: 35.8625\n",
      "Epoch 6/10, Loss: 29.0767\n",
      "Epoch 7/10, Loss: 22.8381\n",
      "Epoch 8/10, Loss: 17.0871\n",
      "Epoch 9/10, Loss: 11.7711\n",
      "Epoch 10/10, Loss: 6.8439\n",
      "训练完成！\n",
      "##################################################\n",
      "标签值: 50.0000\n",
      "Loss最低时的Epoch数为: 10\n",
      "Loss最低时的模型输出值为: 56.8439\n",
      "对应的Loss值为: 6.8439\n"
     ]
    }
   ],
   "source": [
    "epochs = 10\n",
    "lr = 0.002 # 学习率\n",
    "L_best = np.inf\n",
    "y_best = None\n",
    "epoch_best = None\n",
    "\n",
    "for epoch in range(epochs):\n",
    "    y1 = W1 @ x\n",
    "    y2 = W2 @ y1\n",
    "    y3 = W3 @ y2\n",
    "\n",
    "    L = np.abs(y3 - y_true)\n",
    "    if L < L_best: # 保存Loss最低的结果\n",
    "        L_best = L\n",
    "        y_best = y3\n",
    "        epoch_best = epoch + 1\n",
    "    \n",
    "    dL_dy3 = 0 # 梯度初始化为0\n",
    "    dL_dW3 = 0 # 梯度初始化为0\n",
    "    dL_dW2 = 0 # 梯度初始化为0\n",
    "    dL_dW1 = 0 # 梯度初始化为0\n",
    "    \n",
    "    if (y3 - y_true) > 0:\n",
    "        dL_dy3 = 1\n",
    "    else:\n",
    "        dL_dy3 = -1\n",
    "\n",
    "    dL_dW3 = dL_dy3 * y2.T\n",
    "    dL_dW2 = (dL_dy3 * W3).T @ y1.T\n",
    "    dL_dW1 = (dL_dy3 * W3 @ W2).T @ x.T\n",
    "\n",
    "    W3 = W3 - lr * dL_dW3\n",
    "    W2 = W2 - lr * dL_dW2\n",
    "    W1 = W1 - lr * dL_dW1\n",
    "\n",
    "    if epoch % 1 == 0:\n",
    "        print(f\"Epoch {epoch+1}/{epochs}, Loss: {L.item():.4f}\")\n",
    "\n",
    "print(\"训练完成！\")\n",
    "print(\"#\" * 50)\n",
    "print(f\"标签值: {y_true.item():.4f}\")\n",
    "print(f\"Loss最低时的Epoch数为: {epoch_best}\")\n",
    "print(f\"Loss最低时的模型输出值为: {y_best.item():.4f}\")\n",
    "print(f\"对应的Loss值为: {L_best.item():.4f}\")"
   ]
  },
  {
   "cell_type": "code",
   "execution_count": null,
   "id": "0ed0e16d",
   "metadata": {},
   "outputs": [],
   "source": []
  }
 ],
 "metadata": {
  "kernelspec": {
   "display_name": "pytorch",
   "language": "python",
   "name": "python3"
  },
  "language_info": {
   "codemirror_mode": {
    "name": "ipython",
    "version": 3
   },
   "file_extension": ".py",
   "mimetype": "text/x-python",
   "name": "python",
   "nbconvert_exporter": "python",
   "pygments_lexer": "ipython3",
   "version": "3.8.17"
  }
 },
 "nbformat": 4,
 "nbformat_minor": 5
}
